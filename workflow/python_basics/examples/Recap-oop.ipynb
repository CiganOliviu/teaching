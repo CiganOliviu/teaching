{
 "cells": [
  {
   "cell_type": "code",
   "execution_count": 2,
   "metadata": {},
   "outputs": [],
   "source": [
    "class produs:\n",
    "    \n",
    "    def __init__(self, nume, pret, furnizor):\n",
    "        self.nume = nume\n",
    "        self.pret = pret\n",
    "        self.furnizor = furnizor\n",
    "    \n",
    "    def furnizare_date(self):\n",
    "        \n",
    "        print(self.nume)\n",
    "        print(self.pret)\n",
    "        print(self.furnizor)\n",
    "        "
   ]
  },
  {
   "cell_type": "code",
   "execution_count": 3,
   "metadata": {},
   "outputs": [],
   "source": [
    "def schimbare_nume(nume_de_schimbat, nume_nou):\n",
    "    \n",
    "    nume_de_schimbat.nume = nume_nou"
   ]
  },
  {
   "cell_type": "code",
   "execution_count": 4,
   "metadata": {},
   "outputs": [],
   "source": [
    "milka = produs(\"Milka\", 4.23, \"Lidl\")"
   ]
  },
  {
   "cell_type": "code",
   "execution_count": 5,
   "metadata": {},
   "outputs": [
    {
     "name": "stdout",
     "output_type": "stream",
     "text": [
      "Milka\n",
      "4.23\n",
      "Lidl\n"
     ]
    }
   ],
   "source": [
    "milka.furnizare_date()"
   ]
  },
  {
   "cell_type": "code",
   "execution_count": 6,
   "metadata": {},
   "outputs": [],
   "source": [
    "schimbare_nume(milka, \"Laura\")"
   ]
  },
  {
   "cell_type": "code",
   "execution_count": 7,
   "metadata": {},
   "outputs": [
    {
     "name": "stdout",
     "output_type": "stream",
     "text": [
      "Laura\n",
      "4.23\n",
      "Lidl\n"
     ]
    }
   ],
   "source": [
    "milka.furnizare_date()"
   ]
  },
  {
   "cell_type": "code",
   "execution_count": 8,
   "metadata": {},
   "outputs": [],
   "source": [
    "class schimbare:\n",
    "    \n",
    "    def __init__(self):\n",
    "        pass\n",
    "    \n",
    "    def schimbare_pret(self, pret_de_schimbat, pret_nou):\n",
    "        \n",
    "        pret_de_schimbat.pret = pret_nou\n",
    "    \n",
    "    def schimbare_furnizor(self, furnizor_vechi, furnizor_nou):\n",
    "        \n",
    "        furnizor_vechi.furnizor = furnizor_nou\n",
    "    \n",
    "    \n",
    "        "
   ]
  },
  {
   "cell_type": "code",
   "execution_count": 9,
   "metadata": {},
   "outputs": [],
   "source": [
    "milka = produs(\"Milka\", 4, \"Kaufland\")"
   ]
  },
  {
   "cell_type": "code",
   "execution_count": 10,
   "metadata": {},
   "outputs": [],
   "source": [
    "sch = schimbare"
   ]
  },
  {
   "cell_type": "code",
   "execution_count": 11,
   "metadata": {},
   "outputs": [],
   "source": [
    "sch.schimbare_pret(sch, milka, 5)"
   ]
  },
  {
   "cell_type": "code",
   "execution_count": 12,
   "metadata": {},
   "outputs": [
    {
     "name": "stdout",
     "output_type": "stream",
     "text": [
      "Milka\n",
      "5\n",
      "Kaufland\n"
     ]
    }
   ],
   "source": [
    "milka.furnizare_date()"
   ]
  },
  {
   "cell_type": "code",
   "execution_count": 13,
   "metadata": {},
   "outputs": [],
   "source": [
    "sch.schimbare_furnizor(sch, milka, \"Lidl\")"
   ]
  },
  {
   "cell_type": "code",
   "execution_count": 14,
   "metadata": {},
   "outputs": [
    {
     "name": "stdout",
     "output_type": "stream",
     "text": [
      "Milka\n",
      "5\n",
      "Lidl\n"
     ]
    }
   ],
   "source": [
    "milka.furnizare_date()"
   ]
  },
  {
   "cell_type": "code",
   "execution_count": null,
   "metadata": {},
   "outputs": [],
   "source": []
  }
 ],
 "metadata": {
  "kernelspec": {
   "display_name": "Python 3",
   "language": "python",
   "name": "python3"
  },
  "language_info": {
   "codemirror_mode": {
    "name": "ipython",
    "version": 3
   },
   "file_extension": ".py",
   "mimetype": "text/x-python",
   "name": "python",
   "nbconvert_exporter": "python",
   "pygments_lexer": "ipython3",
   "version": "3.8.3"
  }
 },
 "nbformat": 4,
 "nbformat_minor": 4
}
